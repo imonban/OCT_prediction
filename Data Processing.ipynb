{
 "cells": [
  {
   "cell_type": "code",
   "execution_count": 1,
   "metadata": {},
   "outputs": [],
   "source": [
    "from lifelines import KaplanMeierFitter\n",
    "from lifelines.utils import to_long_format\n",
    "from lifelines.utils import add_covariate_to_timeline\n",
    "import pandas as pd\n",
    "import numpy as np\n",
    "import pickle\n",
    "from itertools import repeat"
   ]
  },
  {
   "cell_type": "code",
   "execution_count": 2,
   "metadata": {},
   "outputs": [],
   "source": [
    "df = pd.read_csv('Imaging_clinical_feature_set_folds_outcomes.csv')"
   ]
  },
  {
   "cell_type": "code",
   "execution_count": 3,
   "metadata": {},
   "outputs": [],
   "source": [
    "df_rel = df.fillna('N/A')"
   ]
  },
  {
   "cell_type": "code",
   "execution_count": 4,
   "metadata": {},
   "outputs": [],
   "source": [
    "## drop the first visit"
   ]
  },
  {
   "cell_type": "code",
   "execution_count": 5,
   "metadata": {},
   "outputs": [
    {
     "name": "stderr",
     "output_type": "stream",
     "text": [
      "c:\\users\\imonb\\appdata\\local\\programs\\python\\python35\\lib\\site-packages\\pandas\\core\\ops.py:1649: FutureWarning: elementwise comparison failed; returning scalar instead, but in the future will perform elementwise comparison\n",
      "  result = method(y)\n"
     ]
    }
   ],
   "source": [
    "df_rel = df[df['Max. months remain dry']!='N/A']\n",
    "df_rel_dropfirst = df_rel[df_rel['Elapsed time since first imaging']!=0.000000]"
   ]
  },
  {
   "cell_type": "code",
   "execution_count": 6,
   "metadata": {},
   "outputs": [],
   "source": [
    "patient_ids = df_rel['Patient number'].unique()"
   ]
  },
  {
   "cell_type": "code",
   "execution_count": 7,
   "metadata": {},
   "outputs": [],
   "source": [
    "## Get first enrty for each patient"
   ]
  },
  {
   "cell_type": "code",
   "execution_count": 8,
   "metadata": {},
   "outputs": [],
   "source": [
    "Time_D = []\n",
    "Event_D = []\n",
    "Visit = []\n",
    "\n",
    "for i in range(len(patient_ids)):\n",
    "    temp = df_rel[df_rel['Patient number']==patient_ids[i]]\n",
    "    test = temp.sort_values('Elapsed time since first imaging', ascending=True)\n",
    "    T = 0\n",
    "    E = 0\n",
    "    flg = 0\n",
    "    for j in range(test.shape[0]):\n",
    "        if test.iloc[j]['Progression during study'] == 1 and flg ==0:\n",
    "            T = test.iloc[j]['Elapsed time since first imaging']\n",
    "            E = 1\n",
    "            flg = 1\n",
    "        else:\n",
    "            T = test.iloc[j]['Elapsed time since first imaging']\n",
    "    Time_D.append(T)\n",
    "    Event_D.append(E)\n",
    "    Visit.append(test.shape[0])"
   ]
  },
  {
   "cell_type": "code",
   "execution_count": 9,
   "metadata": {},
   "outputs": [],
   "source": [
    "df_H = pd.DataFrame({'Time':Time_D, 'Event':Event_D, 'Visit':Visit})"
   ]
  },
  {
   "cell_type": "code",
   "execution_count": 10,
   "metadata": {},
   "outputs": [],
   "source": [
    "## Regression dataset"
   ]
  },
  {
   "cell_type": "code",
   "execution_count": 11,
   "metadata": {},
   "outputs": [],
   "source": [
    "df_regression = df_rel.loc[:,'Age':'Smoking: Previous cigarette smoker']"
   ]
  },
  {
   "cell_type": "code",
   "execution_count": 12,
   "metadata": {},
   "outputs": [],
   "source": [
    "df_regression['Elapsed time since first imaging'] = df_rel['Elapsed time since first imaging']"
   ]
  },
  {
   "cell_type": "code",
   "execution_count": 13,
   "metadata": {},
   "outputs": [],
   "source": [
    "df_regression = df_regression.drop('Race: Multiracial',1)\n",
    "df_regression['Patient number'] = df_rel['Patient number']\n",
    "df_regression = df_regression.drop_duplicates('Patient number')\n",
    "df_regression['Duration'] = Time_D\n",
    "df_regression['Event'] = Event_D"
   ]
  },
  {
   "cell_type": "code",
   "execution_count": 14,
   "metadata": {},
   "outputs": [],
   "source": [
    "race = list(repeat(0,df_regression.shape[0]))\n",
    "for i in range(df_regression.shape[0]):\n",
    "    if df_regression.iloc[i]['Race: White'] == 1:\n",
    "        race[i] = 1\n",
    "    if df_regression.iloc[i]['Race: Native Hawaiian or Other Pacific Islander'] == 1:\n",
    "        race[i] = 2\n",
    "    if df_regression.iloc[i]['Race: Black or African American'] == 1:\n",
    "        race[i] = 3\n",
    "    if df_regression.iloc[i]['Race: Asian'] == 1:\n",
    "        race[i] = 4\n",
    "    if df_regression.iloc[i]['Race: American Indian or Alaska Native'] == 1:\n",
    "        race[i] = 5"
   ]
  },
  {
   "cell_type": "code",
   "execution_count": 15,
   "metadata": {},
   "outputs": [],
   "source": [
    "df_regression['Race'] = race\n",
    "df_regression = df_regression.drop('Race: White',1)\n",
    "df_regression = df_regression.drop('Race: Native Hawaiian or Other Pacific Islander',1)\n",
    "df_regression = df_regression.drop('Race: Black or African American',1)\n",
    "df_regression = df_regression.drop('Race: Asian',1)\n",
    "df_regression = df_regression.drop('Race: American Indian or Alaska Native',1)\n",
    "df_regression = df_regression.drop('Patient number',1)"
   ]
  },
  {
   "cell_type": "code",
   "execution_count": 16,
   "metadata": {},
   "outputs": [],
   "source": [
    "duration = []\n",
    "event = []\n",
    "for i in range(len(patient_ids)):\n",
    "    temp = df_rel[df_rel['Patient number']==patient_ids[i]]\n",
    "    E = list(temp['Elapsed time since first imaging'])\n",
    "    duration.append(max(E))\n",
    "    E = list(temp['Progression during study'])\n",
    "    if 1 in E:\n",
    "        event.append(1)\n",
    "    else:\n",
    "        event.append(0)"
   ]
  },
  {
   "cell_type": "code",
   "execution_count": 17,
   "metadata": {},
   "outputs": [],
   "source": [
    "base_df =  df_regression"
   ]
  },
  {
   "cell_type": "code",
   "execution_count": 18,
   "metadata": {},
   "outputs": [],
   "source": [
    "base_df['Patient number'] = patient_ids\n",
    "df_future = df_rel.loc[:, 'Numberofdrusenincube':'Cirrusdrusenvolume5mm']\n",
    "df_future = df_future.dropna(axis=1, how='any')"
   ]
  },
  {
   "cell_type": "code",
   "execution_count": 19,
   "metadata": {},
   "outputs": [],
   "source": [
    "from sklearn import preprocessing\n",
    "\n",
    "x = df_future.values #returns a numpy array\n",
    "min_max_scaler = preprocessing.MinMaxScaler()\n",
    "x_scaled = min_max_scaler.fit_transform(x)\n",
    "df_future = pd.DataFrame(x_scaled, columns = list(df_rel.loc[:, 'Numberofdrusenincube':'Cirrusdrusenvolume5mm']))"
   ]
  },
  {
   "cell_type": "code",
   "execution_count": 20,
   "metadata": {},
   "outputs": [],
   "source": [
    "df_future['Patient number'] = df_rel['Patient number']\n",
    "df_future['Elapsed time since first imaging'] = df_rel['Elapsed time since first imaging']"
   ]
  },
  {
   "cell_type": "code",
   "execution_count": 21,
   "metadata": {},
   "outputs": [],
   "source": [
    "df_future['Patient number'] = df_rel['Patient number']\n",
    "df_future['Age'] = df_rel['Age']"
   ]
  },
  {
   "cell_type": "code",
   "execution_count": 22,
   "metadata": {},
   "outputs": [],
   "source": [
    "base_df = to_long_format(base_df, duration_col=\"Duration\")\n",
    "df_cov = add_covariate_to_timeline(base_df, df_future, duration_col='Elapsed time since first imaging', id_col='Patient number', event_col='Event')"
   ]
  },
  {
   "cell_type": "code",
   "execution_count": 23,
   "metadata": {},
   "outputs": [],
   "source": [
    "df_cov = df_cov.dropna(axis=0, how='any')\n",
    "df_cov.to_csv('Modified_data.csv')"
   ]
  },
  {
   "cell_type": "code",
   "execution_count": null,
   "metadata": {},
   "outputs": [],
   "source": []
  }
 ],
 "metadata": {
  "kernelspec": {
   "display_name": "Python 3",
   "language": "python",
   "name": "python3"
  },
  "language_info": {
   "codemirror_mode": {
    "name": "ipython",
    "version": 3
   },
   "file_extension": ".py",
   "mimetype": "text/x-python",
   "name": "python",
   "nbconvert_exporter": "python",
   "pygments_lexer": "ipython3",
   "version": "3.5.4"
  }
 },
 "nbformat": 4,
 "nbformat_minor": 2
}
